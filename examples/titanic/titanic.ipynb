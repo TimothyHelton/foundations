{
 "cells": [
  {
   "cell_type": "markdown",
   "metadata": {},
   "source": [
    "# Titanic Data Set - Statistics Review\n",
    "\n",
    "[Variable Descriptions](https://www.kaggle.com/c/titanic/data)."
   ]
  },
  {
   "cell_type": "code",
   "execution_count": 1,
   "metadata": {
    "collapsed": true
   },
   "outputs": [],
   "source": [
    "import matplotlib.pyplot as plt\n",
    "import pandas as pd\n",
    "import numpy as np\n",
    "from scipy import stats\n",
    "import seaborn as sns\n",
    "\n",
    "from IPython.core.interactiveshell import InteractiveShell\n",
    "InteractiveShell.ast_node_interactivity = \"all\"\n",
    "%matplotlib inline"
   ]
  },
  {
   "cell_type": "code",
   "execution_count": 2,
   "metadata": {
    "collapsed": true
   },
   "outputs": [],
   "source": [
    "df = pd.read_csv('titanic.csv')"
   ]
  },
  {
   "cell_type": "markdown",
   "metadata": {},
   "source": [
    "**Describe the data. **\n",
    "- How big?\n",
    "- What are the columns and what do they mean?"
   ]
  },
  {
   "cell_type": "markdown",
   "metadata": {},
   "source": [
    "---\n",
    "### Variables\n",
    "\n",
    "- PassengerID: Passenger Identification Number\n",
    "- Survived: Passenger Survived\n",
    "    - 0 = No, 1 = Yes\n",
    "- Pclass: Ticket Class\n",
    "    - 1 = 1st, 2 = 2nd, 3 = 3rd\n",
    "- Name: Name of Passenger\n",
    "- Sex: Sex of Passenger\n",
    "- Age: Age of Passenger\n",
    "- SibSp: Number of siblings / spouses aboard\n",
    "- Parch: Number of parents / children aboard\n",
    "- Ticket: Ticket Number\n",
    "- Fare: Ticket Price\n",
    "- Cabin: Cabin Number\n",
    "- Embarked: Port of Embarkation\n",
    "    - C = Cherbourg, Q = Queenstown, S = Southampton"
   ]
  },
  {
   "cell_type": "code",
   "execution_count": 3,
   "metadata": {},
   "outputs": [
    {
     "data": {
      "text/plain": [
       "(891, 12)"
      ]
     },
     "execution_count": 3,
     "metadata": {},
     "output_type": "execute_result"
    }
   ],
   "source": [
    "df.shape"
   ]
  },
  {
   "cell_type": "markdown",
   "metadata": {},
   "source": [
    "##### 891 Records with a possibility of 12 variables each"
   ]
  },
  {
   "cell_type": "code",
   "execution_count": 4,
   "metadata": {},
   "outputs": [
    {
     "data": {
      "text/plain": [
       "10692"
      ]
     },
     "execution_count": 4,
     "metadata": {},
     "output_type": "execute_result"
    }
   ],
   "source": [
    "df.size"
   ]
  },
  {
   "cell_type": "markdown",
   "metadata": {},
   "source": [
    "##### 10692 total entries"
   ]
  },
  {
   "cell_type": "code",
   "execution_count": 5,
   "metadata": {},
   "outputs": [
    {
     "data": {
      "text/html": [
       "<div>\n",
       "<table border=\"1\" class=\"dataframe\">\n",
       "  <thead>\n",
       "    <tr style=\"text-align: right;\">\n",
       "      <th></th>\n",
       "      <th>PassengerId</th>\n",
       "      <th>Survived</th>\n",
       "      <th>Pclass</th>\n",
       "      <th>Name</th>\n",
       "      <th>Sex</th>\n",
       "      <th>Age</th>\n",
       "      <th>SibSp</th>\n",
       "      <th>Parch</th>\n",
       "      <th>Ticket</th>\n",
       "      <th>Fare</th>\n",
       "      <th>Cabin</th>\n",
       "      <th>Embarked</th>\n",
       "    </tr>\n",
       "  </thead>\n",
       "  <tbody>\n",
       "    <tr>\n",
       "      <th>0</th>\n",
       "      <td>1</td>\n",
       "      <td>0</td>\n",
       "      <td>3</td>\n",
       "      <td>Braund, Mr. Owen Harris</td>\n",
       "      <td>male</td>\n",
       "      <td>22.0</td>\n",
       "      <td>1</td>\n",
       "      <td>0</td>\n",
       "      <td>A/5 21171</td>\n",
       "      <td>7.2500</td>\n",
       "      <td>NaN</td>\n",
       "      <td>S</td>\n",
       "    </tr>\n",
       "    <tr>\n",
       "      <th>1</th>\n",
       "      <td>2</td>\n",
       "      <td>1</td>\n",
       "      <td>1</td>\n",
       "      <td>Cumings, Mrs. John Bradley (Florence Briggs Th...</td>\n",
       "      <td>female</td>\n",
       "      <td>38.0</td>\n",
       "      <td>1</td>\n",
       "      <td>0</td>\n",
       "      <td>PC 17599</td>\n",
       "      <td>71.2833</td>\n",
       "      <td>C85</td>\n",
       "      <td>C</td>\n",
       "    </tr>\n",
       "    <tr>\n",
       "      <th>2</th>\n",
       "      <td>3</td>\n",
       "      <td>1</td>\n",
       "      <td>3</td>\n",
       "      <td>Heikkinen, Miss. Laina</td>\n",
       "      <td>female</td>\n",
       "      <td>26.0</td>\n",
       "      <td>0</td>\n",
       "      <td>0</td>\n",
       "      <td>STON/O2. 3101282</td>\n",
       "      <td>7.9250</td>\n",
       "      <td>NaN</td>\n",
       "      <td>S</td>\n",
       "    </tr>\n",
       "    <tr>\n",
       "      <th>3</th>\n",
       "      <td>4</td>\n",
       "      <td>1</td>\n",
       "      <td>1</td>\n",
       "      <td>Futrelle, Mrs. Jacques Heath (Lily May Peel)</td>\n",
       "      <td>female</td>\n",
       "      <td>35.0</td>\n",
       "      <td>1</td>\n",
       "      <td>0</td>\n",
       "      <td>113803</td>\n",
       "      <td>53.1000</td>\n",
       "      <td>C123</td>\n",
       "      <td>S</td>\n",
       "    </tr>\n",
       "    <tr>\n",
       "      <th>4</th>\n",
       "      <td>5</td>\n",
       "      <td>0</td>\n",
       "      <td>3</td>\n",
       "      <td>Allen, Mr. William Henry</td>\n",
       "      <td>male</td>\n",
       "      <td>35.0</td>\n",
       "      <td>0</td>\n",
       "      <td>0</td>\n",
       "      <td>373450</td>\n",
       "      <td>8.0500</td>\n",
       "      <td>NaN</td>\n",
       "      <td>S</td>\n",
       "    </tr>\n",
       "  </tbody>\n",
       "</table>\n",
       "</div>"
      ],
      "text/plain": [
       "   PassengerId  Survived  Pclass  \\\n",
       "0            1         0       3   \n",
       "1            2         1       1   \n",
       "2            3         1       3   \n",
       "3            4         1       1   \n",
       "4            5         0       3   \n",
       "\n",
       "                                                Name     Sex   Age  SibSp  \\\n",
       "0                            Braund, Mr. Owen Harris    male  22.0      1   \n",
       "1  Cumings, Mrs. John Bradley (Florence Briggs Th...  female  38.0      1   \n",
       "2                             Heikkinen, Miss. Laina  female  26.0      0   \n",
       "3       Futrelle, Mrs. Jacques Heath (Lily May Peel)  female  35.0      1   \n",
       "4                           Allen, Mr. William Henry    male  35.0      0   \n",
       "\n",
       "   Parch            Ticket     Fare Cabin Embarked  \n",
       "0      0         A/5 21171   7.2500   NaN        S  \n",
       "1      0          PC 17599  71.2833   C85        C  \n",
       "2      0  STON/O2. 3101282   7.9250   NaN        S  \n",
       "3      0            113803  53.1000  C123        S  \n",
       "4      0            373450   8.0500   NaN        S  "
      ]
     },
     "execution_count": 5,
     "metadata": {},
     "output_type": "execute_result"
    }
   ],
   "source": [
    "df.head()"
   ]
  },
  {
   "cell_type": "code",
   "execution_count": 6,
   "metadata": {},
   "outputs": [
    {
     "data": {
      "text/html": [
       "<div>\n",
       "<table border=\"1\" class=\"dataframe\">\n",
       "  <thead>\n",
       "    <tr style=\"text-align: right;\">\n",
       "      <th></th>\n",
       "      <th>PassengerId</th>\n",
       "      <th>Survived</th>\n",
       "      <th>Pclass</th>\n",
       "      <th>Name</th>\n",
       "      <th>Sex</th>\n",
       "      <th>Age</th>\n",
       "      <th>SibSp</th>\n",
       "      <th>Parch</th>\n",
       "      <th>Ticket</th>\n",
       "      <th>Fare</th>\n",
       "      <th>Cabin</th>\n",
       "      <th>Embarked</th>\n",
       "    </tr>\n",
       "  </thead>\n",
       "  <tbody>\n",
       "    <tr>\n",
       "      <th>886</th>\n",
       "      <td>887</td>\n",
       "      <td>0</td>\n",
       "      <td>2</td>\n",
       "      <td>Montvila, Rev. Juozas</td>\n",
       "      <td>male</td>\n",
       "      <td>27.0</td>\n",
       "      <td>0</td>\n",
       "      <td>0</td>\n",
       "      <td>211536</td>\n",
       "      <td>13.00</td>\n",
       "      <td>NaN</td>\n",
       "      <td>S</td>\n",
       "    </tr>\n",
       "    <tr>\n",
       "      <th>887</th>\n",
       "      <td>888</td>\n",
       "      <td>1</td>\n",
       "      <td>1</td>\n",
       "      <td>Graham, Miss. Margaret Edith</td>\n",
       "      <td>female</td>\n",
       "      <td>19.0</td>\n",
       "      <td>0</td>\n",
       "      <td>0</td>\n",
       "      <td>112053</td>\n",
       "      <td>30.00</td>\n",
       "      <td>B42</td>\n",
       "      <td>S</td>\n",
       "    </tr>\n",
       "    <tr>\n",
       "      <th>888</th>\n",
       "      <td>889</td>\n",
       "      <td>0</td>\n",
       "      <td>3</td>\n",
       "      <td>Johnston, Miss. Catherine Helen \"Carrie\"</td>\n",
       "      <td>female</td>\n",
       "      <td>NaN</td>\n",
       "      <td>1</td>\n",
       "      <td>2</td>\n",
       "      <td>W./C. 6607</td>\n",
       "      <td>23.45</td>\n",
       "      <td>NaN</td>\n",
       "      <td>S</td>\n",
       "    </tr>\n",
       "    <tr>\n",
       "      <th>889</th>\n",
       "      <td>890</td>\n",
       "      <td>1</td>\n",
       "      <td>1</td>\n",
       "      <td>Behr, Mr. Karl Howell</td>\n",
       "      <td>male</td>\n",
       "      <td>26.0</td>\n",
       "      <td>0</td>\n",
       "      <td>0</td>\n",
       "      <td>111369</td>\n",
       "      <td>30.00</td>\n",
       "      <td>C148</td>\n",
       "      <td>C</td>\n",
       "    </tr>\n",
       "    <tr>\n",
       "      <th>890</th>\n",
       "      <td>891</td>\n",
       "      <td>0</td>\n",
       "      <td>3</td>\n",
       "      <td>Dooley, Mr. Patrick</td>\n",
       "      <td>male</td>\n",
       "      <td>32.0</td>\n",
       "      <td>0</td>\n",
       "      <td>0</td>\n",
       "      <td>370376</td>\n",
       "      <td>7.75</td>\n",
       "      <td>NaN</td>\n",
       "      <td>Q</td>\n",
       "    </tr>\n",
       "  </tbody>\n",
       "</table>\n",
       "</div>"
      ],
      "text/plain": [
       "     PassengerId  Survived  Pclass                                      Name  \\\n",
       "886          887         0       2                     Montvila, Rev. Juozas   \n",
       "887          888         1       1              Graham, Miss. Margaret Edith   \n",
       "888          889         0       3  Johnston, Miss. Catherine Helen \"Carrie\"   \n",
       "889          890         1       1                     Behr, Mr. Karl Howell   \n",
       "890          891         0       3                       Dooley, Mr. Patrick   \n",
       "\n",
       "        Sex   Age  SibSp  Parch      Ticket   Fare Cabin Embarked  \n",
       "886    male  27.0      0      0      211536  13.00   NaN        S  \n",
       "887  female  19.0      0      0      112053  30.00   B42        S  \n",
       "888  female   NaN      1      2  W./C. 6607  23.45   NaN        S  \n",
       "889    male  26.0      0      0      111369  30.00  C148        C  \n",
       "890    male  32.0      0      0      370376   7.75   NaN        Q  "
      ]
     },
     "execution_count": 6,
     "metadata": {},
     "output_type": "execute_result"
    }
   ],
   "source": [
    "df.tail()"
   ]
  },
  {
   "cell_type": "code",
   "execution_count": 7,
   "metadata": {},
   "outputs": [
    {
     "data": {
      "image/png": "[encoded data removed]",
      "text/plain": [
       "<matplotlib.figure.Figure at 0x1174c32e8>"
      ]
     },
     "metadata": {},
     "output_type": "display_data"
    }
   ],
   "source": [
    "df.describe().loc[:, ('Age', 'Fare')].plot(kind='box', ylim=(0, 200));"
   ]
  },
  {
   "cell_type": "markdown",
   "metadata": {},
   "source": [
    "**What’s the average age and how far (in years) are the average ages from the median ages for the following:**\n",
    "\n",
    "- Any Titanic passenger\n",
    "- A survivor\n",
    "- A non-surviving first-class passenger\n",
    "- Male survivors older than 30 from anywhere but Queenstown"
   ]
  },
  {
   "cell_type": "markdown",
   "metadata": {},
   "source": [
    "#### Average age of all passengers"
   ]
  },
  {
   "cell_type": "code",
   "execution_count": 8,
   "metadata": {},
   "outputs": [
    {
     "name": "stdout",
     "output_type": "stream",
     "text": [
      "Average: 29.69911764705882\n",
      "Median: 28.0\n",
      "Average - Median: 1.69911764705882\n"
     ]
    }
   ],
   "source": [
    "age_avg = df.Age.mean()\n",
    "age_median = df.Age.median()\n",
    "delta = age_avg - age_median\n",
    "\n",
    "print(f'Average: {age_avg}')\n",
    "print(f'Median: {age_median}')\n",
    "print(f'Average - Median: {delta}')"
   ]
  },
  {
   "cell_type": "markdown",
   "metadata": {},
   "source": [
    "##### Average age of survivors"
   ]
  },
  {
   "cell_type": "code",
   "execution_count": 9,
   "metadata": {},
   "outputs": [
    {
     "name": "stdout",
     "output_type": "stream",
     "text": [
      "Average: 28.343689655172415\n",
      "Median: 28.0\n",
      "Average - Median: 0.34368965517241534\n"
     ]
    }
   ],
   "source": [
    "group_1 = df.Survived == 1\n",
    "stats_1 = df.Age[group_1].describe()\n",
    "delta = stats_1['mean'] - stats_1['50%']\n",
    "\n",
    "print(f'Average: {stats_1[\"mean\"]}')\n",
    "print(f'Median: {stats_1[\"50%\"]}')\n",
    "print(f'Average - Median: {delta}')"
   ]
  },
  {
   "cell_type": "markdown",
   "metadata": {},
   "source": [
    "##### Average age of non-surviving first-class passenger"
   ]
  },
  {
   "cell_type": "code",
   "execution_count": 10,
   "metadata": {},
   "outputs": [
    {
     "name": "stdout",
     "output_type": "stream",
     "text": [
      "Average: 43.6953125\n",
      "Median: 45.25\n",
      "Average - Median: -1.5546875\n"
     ]
    }
   ],
   "source": [
    "group_2 = (df.Survived == 0) & (df.Pclass == 1)\n",
    "stats_2 = df.Age[group_2].describe()\n",
    "delta = stats_2['mean'] - stats_2['50%']\n",
    "\n",
    "print(f'Average: {stats_2[\"mean\"]}')\n",
    "print(f'Median: {stats_2[\"50%\"]}')\n",
    "print(f'Average - Median: {delta}')"
   ]
  },
  {
   "cell_type": "markdown",
   "metadata": {},
   "source": [
    "##### Average age of males older than 30 from anywhere but Queenstown"
   ]
  },
  {
   "cell_type": "code",
   "execution_count": 11,
   "metadata": {},
   "outputs": [
    {
     "name": "stdout",
     "output_type": "stream",
     "text": [
      "Average: 43.28865979381443\n",
      "Median: 40.25\n",
      "Average - Median: 3.038659793814432\n"
     ]
    }
   ],
   "source": [
    "group_3 = (df.Age > 30) & (df.Sex == 'male') & (df.Embarked != 'Q')\n",
    "stats_3 = df.Age[group_3].describe()\n",
    "delta = stats_3['mean'] - stats_3['50%']\n",
    "\n",
    "print(f'Average: {stats_3[\"mean\"]}')\n",
    "print(f'Median: {stats_3[\"50%\"]}')\n",
    "print(f'Average - Median: {delta}')"
   ]
  },
  {
   "cell_type": "code",
   "execution_count": 12,
   "metadata": {},
   "outputs": [
    {
     "data": {
      "text/html": [
       "<div>\n",
       "<table border=\"1\" class=\"dataframe\">\n",
       "  <thead>\n",
       "    <tr style=\"text-align: right;\">\n",
       "      <th></th>\n",
       "      <th>Survivors</th>\n",
       "      <th>Non-Survivor 1st Class</th>\n",
       "      <th>Queenstown Males Over 30</th>\n",
       "    </tr>\n",
       "  </thead>\n",
       "  <tbody>\n",
       "    <tr>\n",
       "      <th>count</th>\n",
       "      <td>290.000000</td>\n",
       "      <td>64.000000</td>\n",
       "      <td>194.000000</td>\n",
       "    </tr>\n",
       "    <tr>\n",
       "      <th>mean</th>\n",
       "      <td>28.343690</td>\n",
       "      <td>43.695312</td>\n",
       "      <td>43.288660</td>\n",
       "    </tr>\n",
       "    <tr>\n",
       "      <th>std</th>\n",
       "      <td>14.950952</td>\n",
       "      <td>15.284243</td>\n",
       "      <td>10.552321</td>\n",
       "    </tr>\n",
       "    <tr>\n",
       "      <th>min</th>\n",
       "      <td>0.420000</td>\n",
       "      <td>2.000000</td>\n",
       "      <td>30.500000</td>\n",
       "    </tr>\n",
       "    <tr>\n",
       "      <th>25%</th>\n",
       "      <td>19.000000</td>\n",
       "      <td>31.000000</td>\n",
       "      <td>35.000000</td>\n",
       "    </tr>\n",
       "    <tr>\n",
       "      <th>50%</th>\n",
       "      <td>28.000000</td>\n",
       "      <td>45.250000</td>\n",
       "      <td>40.250000</td>\n",
       "    </tr>\n",
       "    <tr>\n",
       "      <th>75%</th>\n",
       "      <td>36.000000</td>\n",
       "      <td>55.250000</td>\n",
       "      <td>49.750000</td>\n",
       "    </tr>\n",
       "    <tr>\n",
       "      <th>max</th>\n",
       "      <td>80.000000</td>\n",
       "      <td>71.000000</td>\n",
       "      <td>80.000000</td>\n",
       "    </tr>\n",
       "  </tbody>\n",
       "</table>\n",
       "</div>"
      ],
      "text/plain": [
       "        Survivors  Non-Survivor 1st Class  Queenstown Males Over 30\n",
       "count  290.000000               64.000000                194.000000\n",
       "mean    28.343690               43.695312                 43.288660\n",
       "std     14.950952               15.284243                 10.552321\n",
       "min      0.420000                2.000000                 30.500000\n",
       "25%     19.000000               31.000000                 35.000000\n",
       "50%     28.000000               45.250000                 40.250000\n",
       "75%     36.000000               55.250000                 49.750000\n",
       "max     80.000000               71.000000                 80.000000"
      ]
     },
     "execution_count": 12,
     "metadata": {},
     "output_type": "execute_result"
    }
   ],
   "source": [
    "age_groups = pd.concat([stats_1, stats_2, stats_3], axis=1)\n",
    "age_groups.columns = ['Survivors', 'Non-Survivor 1st Class', 'Queenstown Males Over 30']\n",
    "age_groups"
   ]
  },
  {
   "cell_type": "code",
   "execution_count": 13,
   "metadata": {},
   "outputs": [
    {
     "data": {
      "image/png": "[encoded data removed]",
      "text/plain": [
       "<matplotlib.figure.Figure at 0x10d024518>"
      ]
     },
     "metadata": {},
     "output_type": "display_data"
    }
   ],
   "source": [
    "label_size = 14\n",
    "\n",
    "fig = plt.figure('Titanic Passenger Ages', figsize=(7, 7),\n",
    "                 facecolor='white', edgecolor='black')\n",
    "ax1 = plt.subplot2grid((1, 1), (0, 0));\n",
    "\n",
    "age_groups.plot(kind='box', ylim=(0, 100), ax=ax1);\n",
    "\n",
    "plt.suptitle('Titanic Passenger Ages', fontsize=24);\n",
    "ax1.set_xlabel('Age (years)', fontsize=label_size);\n",
    "ax1.set_ylabel('Count', fontsize=label_size);"
   ]
  },
  {
   "cell_type": "code",
   "execution_count": 14,
   "metadata": {},
   "outputs": [
    {
     "data": {
      "image/png": "[encoded data removed]",
      "text/plain": [
       "<matplotlib.figure.Figure at 0x10cf71ba8>"
      ]
     },
     "metadata": {},
     "output_type": "display_data"
    }
   ],
   "source": [
    "sns.violinplot(x='Survived', y='Age', data=df);"
   ]
  },
  {
   "cell_type": "markdown",
   "metadata": {},
   "source": [
    "**What’s the most common:**\n",
    "- Passenger class\n",
    "- Port of Embarkation\n",
    "- Number of siblings or spouses aboard for survivors"
   ]
  },
  {
   "cell_type": "code",
   "execution_count": 15,
   "metadata": {},
   "outputs": [
    {
     "data": {
      "text/plain": [
       "0    3\n",
       "dtype: int64"
      ]
     },
     "execution_count": 15,
     "metadata": {},
     "output_type": "execute_result"
    },
    {
     "data": {
      "text/plain": [
       "0    S\n",
       "dtype: object"
      ]
     },
     "execution_count": 15,
     "metadata": {},
     "output_type": "execute_result"
    },
    {
     "data": {
      "text/plain": [
       "0    0\n",
       "dtype: int64"
      ]
     },
     "execution_count": 15,
     "metadata": {},
     "output_type": "execute_result"
    }
   ],
   "source": [
    "df.Pclass.mode()\n",
    "df.Embarked.mode()\n",
    "df.SibSp.mode()"
   ]
  },
  {
   "cell_type": "markdown",
   "metadata": {},
   "source": [
    "- The majority of passengers held 3rd class tickets.\n",
    "- Most passengers boarded in Southampton\n",
    "- The majority of passengers did not have any siblings or spouses onboard."
   ]
  },
  {
   "cell_type": "markdown",
   "metadata": {},
   "source": [
    "**Within what range of standard deviations from the mean (0-1, 1-2, 2-3) is the median ticket price? Is it above or below the mean?**"
   ]
  },
  {
   "cell_type": "code",
   "execution_count": 16,
   "metadata": {},
   "outputs": [
    {
     "data": {
      "text/plain": [
       "count    891.000000\n",
       "mean      32.204208\n",
       "std       49.693429\n",
       "min        0.000000\n",
       "25%        7.910400\n",
       "50%       14.454200\n",
       "75%       31.000000\n",
       "max      512.329200\n",
       "Name: Fare, dtype: float64"
      ]
     },
     "execution_count": 16,
     "metadata": {},
     "output_type": "execute_result"
    }
   ],
   "source": [
    "df.Fare.describe()"
   ]
  },
  {
   "cell_type": "markdown",
   "metadata": {},
   "source": [
    "- The median fare of 14.45 is within 1 standard deviation of the mean price of 32.20"
   ]
  },
  {
   "cell_type": "markdown",
   "metadata": {},
   "source": [
    "**How much more expensive was the 90th percentile ticket than the 5th percentile ticket? Are they the same class?**"
   ]
  },
  {
   "cell_type": "code",
   "execution_count": 17,
   "metadata": {},
   "outputs": [
    {
     "data": {
      "text/plain": [
       "77.9583"
      ]
     },
     "execution_count": 17,
     "metadata": {},
     "output_type": "execute_result"
    },
    {
     "data": {
      "text/plain": [
       "7.225"
      ]
     },
     "execution_count": 17,
     "metadata": {},
     "output_type": "execute_result"
    },
    {
     "data": {
      "text/plain": [
       "70.7333"
      ]
     },
     "execution_count": 17,
     "metadata": {},
     "output_type": "execute_result"
    },
    {
     "data": {
      "text/plain": [
       "Pclass\n",
       "1    3\n",
       "Name: Pclass, dtype: int64"
      ]
     },
     "execution_count": 17,
     "metadata": {},
     "output_type": "execute_result"
    },
    {
     "data": {
      "text/plain": [
       "Pclass\n",
       "3    12\n",
       "Name: Pclass, dtype: int64"
      ]
     },
     "execution_count": 17,
     "metadata": {},
     "output_type": "execute_result"
    }
   ],
   "source": [
    "fare_90 = df.Fare.quantile(0.9)\n",
    "fare_90\n",
    "fare_5 = df.Fare.quantile(0.05)\n",
    "fare_5\n",
    "\n",
    "fare_90 - fare_5\n",
    "\n",
    "df.Pclass[df.Fare == fare_90].groupby(df.Pclass).count()\n",
    "df.Pclass[df.Fare == fare_5].groupby(df.Pclass).count()"
   ]
  },
  {
   "cell_type": "markdown",
   "metadata": {},
   "source": [
    "- The 90th percentile fare (77.96) was 70.73 higher than the 5th percentile fare (7.23).\n",
    "- All three of the tickets sold at the 90th percentile fare were for 1st class cabins.\n",
    "- The 12 tickets sold at the 5th percentile fare were all for 3rd class cabins."
   ]
  },
  {
   "cell_type": "markdown",
   "metadata": {},
   "source": [
    "**The highest average ticket price was paid by passengers from which port? Null ports don’t count.**"
   ]
  },
  {
   "cell_type": "code",
   "execution_count": 18,
   "metadata": {},
   "outputs": [
    {
     "data": {
      "text/plain": [
       "Embarked\n",
       "C    59.954144\n",
       "Q    13.276030\n",
       "S    27.079812\n",
       "Name: Fare, dtype: float64"
      ]
     },
     "execution_count": 18,
     "metadata": {},
     "output_type": "execute_result"
    }
   ],
   "source": [
    "df.Fare.groupby(df.Embarked).mean()"
   ]
  },
  {
   "cell_type": "markdown",
   "metadata": {},
   "source": [
    "- Passengers from Cherbourg paid the highest average fare."
   ]
  },
  {
   "cell_type": "markdown",
   "metadata": {},
   "source": [
    "**What is the most common passenger class for each port?**"
   ]
  },
  {
   "cell_type": "code",
   "execution_count": 19,
   "metadata": {},
   "outputs": [
    {
     "data": {
      "text/plain": [
       "Embarked  Pclass\n",
       "C         1          85\n",
       "          2          17\n",
       "          3          66\n",
       "Q         1           2\n",
       "          2           3\n",
       "          3          72\n",
       "S         1         127\n",
       "          2         164\n",
       "          3         353\n",
       "Name: PassengerId, dtype: int64"
      ]
     },
     "execution_count": 19,
     "metadata": {},
     "output_type": "execute_result"
    }
   ],
   "source": [
    "embark_classes = df.PassengerId.groupby((df.Embarked, df.Pclass)).count()\n",
    "embark_classes"
   ]
  },
  {
   "cell_type": "markdown",
   "metadata": {},
   "source": [
    "- The most common passenger class from each port was the following:\n",
    "    - Cherbourg: 1st\n",
    "    - Queenstown: 3rd\n",
    "    - Southampton: 3rd"
   ]
  },
  {
   "cell_type": "code",
   "execution_count": 20,
   "metadata": {},
   "outputs": [
    {
     "data": {
      "image/png": "[encoded data removed]",
      "text/plain": [
       "<matplotlib.figure.Figure at 0x11a9f8780>"
      ]
     },
     "metadata": {},
     "output_type": "display_data"
    }
   ],
   "source": [
    "embark_classes.unstack().plot(\n",
    "    kind='bar',\n",
    "    title=\"Passenger's Cabin Class Based on Embarking City\");"
   ]
  },
  {
   "cell_type": "code",
   "execution_count": 21,
   "metadata": {},
   "outputs": [
    {
     "data": {
      "image/png": "[encoded data removed]",
      "text/plain": [
       "<matplotlib.figure.Figure at 0x11aba3d30>"
      ]
     },
     "metadata": {},
     "output_type": "display_data"
    }
   ],
   "source": [
    "embark_classes.unstack().plot(\n",
    "    kind='bar',\n",
    "    stacked=True,\n",
    "    title=\"Passenger's Cabin Class Based on Embarking City\");"
   ]
  },
  {
   "cell_type": "markdown",
   "metadata": {},
   "source": [
    "**What fraction of surviving 1st-class males paid lower than double the overall median ticket price?**"
   ]
  },
  {
   "cell_type": "code",
   "execution_count": 22,
   "metadata": {},
   "outputs": [
    {
     "name": "stdout",
     "output_type": "stream",
     "text": [
      "Double the Overall Median Fare: 28.9084\n",
      "Percent of surviving 1st-class males fare below double the overallmedian fare: 24.4%\n"
     ]
    }
   ],
   "source": [
    "group = (df.Sex == 'male') & (df.Pclass == 1) & (df.Survived == 1)\n",
    "stats_m = df.Fare[group].describe()\n",
    "count = df.Fare[group & (df.Fare < (2 * df.Fare.median()))].count()\n",
    "\n",
    "print(f'Double the Overall Median Fare: {df.Fare.median() * 2}')\n",
    "print('Percent of surviving 1st-class males fare below double the overall'\n",
    "      f'median fare: {count / stats_m[\"count\"] * 100:.1f}%')"
   ]
  },
  {
   "cell_type": "markdown",
   "metadata": {},
   "source": [
    "- 24.4% of the surviving 1st class males paid lower than double the overall median ticket price."
   ]
  },
  {
   "cell_type": "code",
   "execution_count": 23,
   "metadata": {},
   "outputs": [],
   "source": [
    "fare_comp = pd.concat([df.Fare[group].describe(), df.Fare.describe()], axis=1)\n",
    "fare_comp.columns = ['survive_1st_class_male', 'all_fares']"
   ]
  },
  {
   "cell_type": "code",
   "execution_count": 24,
   "metadata": {},
   "outputs": [
    {
     "data": {
      "image/png": "[encoded data removed]",
      "text/plain": [
       "<matplotlib.figure.Figure at 0x11acf80f0>"
      ]
     },
     "metadata": {},
     "output_type": "display_data"
    }
   ],
   "source": [
    "label_size = 14\n",
    "\n",
    "fig = plt.figure('Titanic Passenger Fares', figsize=(7, 7),\n",
    "                 facecolor='white', edgecolor='black')\n",
    "ax1 = plt.subplot2grid((1, 1), (0, 0));\n",
    "\n",
    "fare_comp.plot(kind='box', ax=ax1, ylim=(0, 175))\n",
    "\n",
    "plt.suptitle('Titanic Passenger Fares', fontsize=24);\n",
    "ax1.set_ylabel('Count', fontsize=label_size);"
   ]
  },
  {
   "cell_type": "markdown",
   "metadata": {},
   "source": [
    "**How much older/younger was the average surviving passenger with family members than the average non-surviving passenger without them?**"
   ]
  },
  {
   "cell_type": "code",
   "execution_count": 25,
   "metadata": {},
   "outputs": [
    {
     "data": {
      "text/plain": [
       "-6.7296155210867816"
      ]
     },
     "execution_count": 25,
     "metadata": {},
     "output_type": "execute_result"
    }
   ],
   "source": [
    "family = df.Age[(df.SibSp > 0) | (df.Parch > 0) & (df.Survived == 1)].describe()\n",
    "single = df.Age[(df.SibSp == 0) & (df.Parch == 0) & (df.Survived == 0)].describe()\n",
    "\n",
    "family['mean'] - single['mean']"
   ]
  },
  {
   "cell_type": "markdown",
   "metadata": {},
   "source": [
    "- The average surviving passenger with family members on board was 6.7 years younger than the single passengers who did not survive."
   ]
  },
  {
   "cell_type": "code",
   "execution_count": 26,
   "metadata": {},
   "outputs": [
    {
     "data": {
      "image/png": "[encoded data removed]",
      "text/plain": [
       "<matplotlib.figure.Figure at 0x11ae17ac8>"
      ]
     },
     "metadata": {},
     "output_type": "display_data"
    }
   ],
   "source": [
    "family = pd.concat([family, single], axis=1)\n",
    "family.columns = ['survivor_with_family', 'non-survivor_without_family']\n",
    "family.plot(kind='box', title='Age Comparision', ylim=(0, 100));"
   ]
  },
  {
   "cell_type": "markdown",
   "metadata": {},
   "source": [
    "**Display the relationship (i.e. make a plot) between survival rate and the quantile of the ticket price for 20 integer quantiles.**\n",
    "- To be clearer, what I want is for you to specify 20 quantiles, and for each of those quantiles divide the number of survivors in that quantile by the total number of people in that quantile. That’ll give you the survival rate in that quantile.\n",
    "- Then plot a line of the survival rate against the ticket fare quantiles.\n",
    "- Make sure you label your axes."
   ]
  },
  {
   "cell_type": "code",
   "execution_count": 27,
   "metadata": {},
   "outputs": [],
   "source": [
    "survival_rate = []\n",
    "quantiles = np.linspace(0, 1, 21)\n",
    "for n in quantiles:\n",
    "    quantile_fare = df.Fare.quantile(n)\n",
    "    survive = df.PassengerId[(df.Survived == 1) & (df.Fare <= quantile_fare)].count()\n",
    "    total = df.PassengerId[df.Fare <= quantile_fare].count()\n",
    "\n",
    "    survival_rate.append(survive / total * 100)"
   ]
  },
  {
   "cell_type": "code",
   "execution_count": 28,
   "metadata": {},
   "outputs": [
    {
     "data": {
      "image/png": "[encoded data removed]",
      "text/plain": [
       "<matplotlib.figure.Figure at 0x11b12bdd8>"
      ]
     },
     "metadata": {},
     "output_type": "display_data"
    }
   ],
   "source": [
    "label_size = 14\n",
    "\n",
    "fig = plt.figure('Titanic Passenger Survival Rate vs. Fare Quantile',\n",
    "                 figsize=(7, 7), facecolor='white', edgecolor='black')\n",
    "ax1 = plt.subplot2grid((1, 1), (0, 0));\n",
    "\n",
    "data = pd.DataFrame({'Fare Quantile': quantiles,\n",
    "                     'Survival Rate': survival_rate})\n",
    "data.plot(x='Fare Quantile', y='Survival Rate', color='indianred', ax=ax1)\n",
    "\n",
    "plt.suptitle('Passenger Survival Rate vs. Fare Quantile', fontsize=20);\n",
    "ax1.set_xlabel('Fare Quantile', fontsize=label_size);\n",
    "ax1.set_ylabel('Survival Rate (%)', fontsize=label_size);"
   ]
  },
  {
   "cell_type": "markdown",
   "metadata": {},
   "source": [
    "**For each of the following characteristics, find the median in the data:**\n",
    "- Age\n",
    "- Ticket price\n",
    "- Siblings/spouses\n",
    "- Parents/children"
   ]
  },
  {
   "cell_type": "code",
   "execution_count": 29,
   "metadata": {},
   "outputs": [
    {
     "data": {
      "text/plain": [
       "Age      29.699118\n",
       "Fare     32.204208\n",
       "SibSp     0.523008\n",
       "Parch     0.381594\n",
       "dtype: float64"
      ]
     },
     "execution_count": 29,
     "metadata": {},
     "output_type": "execute_result"
    }
   ],
   "source": [
    "df.loc[:, ['Age', 'Fare', 'SibSp', 'Parch']].mean()"
   ]
  },
  {
   "cell_type": "markdown",
   "metadata": {},
   "source": [
    "**If you were to use these medians to draw numerical boundaries separating survivors from non-survivors, which of these characteristics would be the best choice and why?**"
   ]
  },
  {
   "cell_type": "code",
   "execution_count": 30,
   "metadata": {},
   "outputs": [
    {
     "data": {
      "text/plain": [
       "SibSp  Parch\n",
       "0      0        537\n",
       "       1         38\n",
       "       2         29\n",
       "       3          1\n",
       "       4          1\n",
       "       5          2\n",
       "1      0        123\n",
       "       1         57\n",
       "       2         19\n",
       "       3          3\n",
       "       4          3\n",
       "       5          3\n",
       "       6          1\n",
       "2      0         16\n",
       "       1          7\n",
       "       2          4\n",
       "       3          1\n",
       "3      0          2\n",
       "       1          7\n",
       "       2          7\n",
       "4      1          9\n",
       "       2          9\n",
       "5      2          5\n",
       "8      2          7\n",
       "Name: PassengerId, dtype: int64"
      ]
     },
     "execution_count": 30,
     "metadata": {},
     "output_type": "execute_result"
    }
   ],
   "source": [
    "df.PassengerId.groupby((df.SibSp, df.Parch)).count()"
   ]
  },
  {
   "cell_type": "code",
   "execution_count": 31,
   "metadata": {},
   "outputs": [
    {
     "data": {
      "text/plain": [
       "19.865319865319865"
      ]
     },
     "execution_count": 31,
     "metadata": {},
     "output_type": "execute_result"
    }
   ],
   "source": [
    "df.PassengerId[df.Age.isnull()].count() / 891 * 100"
   ]
  },
  {
   "cell_type": "code",
   "execution_count": 32,
   "metadata": {},
   "outputs": [
    {
     "data": {
      "text/plain": [
       "0.0"
      ]
     },
     "execution_count": 32,
     "metadata": {},
     "output_type": "execute_result"
    }
   ],
   "source": [
    "df.PassengerId[df.Fare.isnull()].count() / 891 * 100"
   ]
  },
  {
   "cell_type": "markdown",
   "metadata": {
    "collapsed": true
   },
   "source": [
    "- Do not focus on family.\n",
    "    - 60% of the passengers were not traveling with family.  Focusing on these traits vastly reduce the data set.\n",
    "\n",
    "- Fare\n",
    "    - This attribute is worth investigating, but has a very large spread (see box plot towords the top).\n",
    "    - Every person has an entry for this field.\n",
    "\n",
    "- Age\n",
    "    - This attribute is also worth further investigation\n",
    "    - 20% of the passengers do not have a data entry for this field."
   ]
  },
  {
   "cell_type": "markdown",
   "metadata": {},
   "source": [
    "**Plot the distribution of passenger ages. Choose visually-meaningful bin sizes and label your axes.**"
   ]
  },
  {
   "cell_type": "code",
   "execution_count": 33,
   "metadata": {},
   "outputs": [
    {
     "data": {
      "image/png": "[encoded data removed]",
      "text/plain": [
       "<matplotlib.figure.Figure at 0x11b14d9b0>"
      ]
     },
     "metadata": {},
     "output_type": "display_data"
    }
   ],
   "source": [
    "label_size = 14\n",
    "\n",
    "fig = plt.figure('Titanic Passenger Ages', figsize=(7, 7),\n",
    "                 facecolor='white', edgecolor='black')\n",
    "ax1 = plt.subplot2grid((1, 1), (0, 0));\n",
    "\n",
    "df.Age.plot(kind='hist', bins=40, alpha=0.7, ax=ax1);\n",
    "\n",
    "plt.suptitle('Titanic Passenger Ages', fontsize=24);\n",
    "ax1.set_xlabel('Age (years)', fontsize=label_size);\n",
    "ax1.set_ylabel('Count', fontsize=label_size);"
   ]
  },
  {
   "cell_type": "markdown",
   "metadata": {},
   "source": [
    "**Find the probability that:**\n",
    "- A passenger survived\n",
    "- A passenger was male\n",
    "- A passenger was female and had at least one sibling or spouse on board\n",
    "- A survivor was from Cherbourg\n",
    "- A passenger was less than 10 years old\n",
    "- A passenger was between 25 and 40 years old\n",
    "- A passenger was either younger than 20 years old or older than 50"
   ]
  },
  {
   "cell_type": "code",
   "execution_count": 34,
   "metadata": {
    "collapsed": true
   },
   "outputs": [],
   "source": [
    "passenger_total = df.shape[0]"
   ]
  },
  {
   "cell_type": "code",
   "execution_count": 35,
   "metadata": {},
   "outputs": [
    {
     "data": {
      "text/plain": [
       "38.383838383838381"
      ]
     },
     "execution_count": 35,
     "metadata": {},
     "output_type": "execute_result"
    }
   ],
   "source": [
    "df.PassengerId[df.Survived == 1].count() / passenger_total * 100"
   ]
  },
  {
   "cell_type": "markdown",
   "metadata": {},
   "source": [
    "- 38.4% of the passengers survived"
   ]
  },
  {
   "cell_type": "code",
   "execution_count": 36,
   "metadata": {},
   "outputs": [
    {
     "data": {
      "text/plain": [
       "64.758698092031437"
      ]
     },
     "execution_count": 36,
     "metadata": {},
     "output_type": "execute_result"
    }
   ],
   "source": [
    "df.PassengerId[df.Sex == 'male'].count() / passenger_total * 100"
   ]
  },
  {
   "cell_type": "markdown",
   "metadata": {},
   "source": [
    "- 64.8% of the passengers were male"
   ]
  },
  {
   "cell_type": "code",
   "execution_count": 37,
   "metadata": {},
   "outputs": [
    {
     "data": {
      "text/plain": [
       "15.712682379349047"
      ]
     },
     "execution_count": 37,
     "metadata": {},
     "output_type": "execute_result"
    }
   ],
   "source": [
    "df.PassengerId[(df.Sex == 'female') & (df.SibSp > 0)].count() / passenger_total * 100"
   ]
  },
  {
   "cell_type": "markdown",
   "metadata": {},
   "source": [
    "15.7% of the passengers were female with at least one sibling or souse onboard"
   ]
  },
  {
   "cell_type": "code",
   "execution_count": 38,
   "metadata": {},
   "outputs": [
    {
     "data": {
      "text/plain": [
       "10.437710437710438"
      ]
     },
     "execution_count": 38,
     "metadata": {},
     "output_type": "execute_result"
    }
   ],
   "source": [
    "df.PassengerId[(df.Survived == 1) & (df.Embarked == 'C')].count() / passenger_total * 100"
   ]
  },
  {
   "cell_type": "markdown",
   "metadata": {},
   "source": [
    "- 10.4% of the survivors were from Cherbourg"
   ]
  },
  {
   "cell_type": "code",
   "execution_count": 39,
   "metadata": {},
   "outputs": [
    {
     "data": {
      "text/plain": [
       "6.9584736251402921"
      ]
     },
     "execution_count": 39,
     "metadata": {},
     "output_type": "execute_result"
    }
   ],
   "source": [
    "df.PassengerId[df.Age < 10].count() / passenger_total * 100"
   ]
  },
  {
   "cell_type": "markdown",
   "metadata": {},
   "source": [
    "- 7% of the passengers were under the age of 10"
   ]
  },
  {
   "cell_type": "code",
   "execution_count": 40,
   "metadata": {},
   "outputs": [
    {
     "data": {
      "text/plain": [
       "28.058361391694724"
      ]
     },
     "execution_count": 40,
     "metadata": {},
     "output_type": "execute_result"
    }
   ],
   "source": [
    "df.PassengerId[(25 < df.Age) & (df.Age < 40)].count() /passenger_total * 100"
   ]
  },
  {
   "cell_type": "markdown",
   "metadata": {},
   "source": [
    "- 28% of the crew was between the ages of 25 and 40"
   ]
  },
  {
   "cell_type": "code",
   "execution_count": 41,
   "metadata": {},
   "outputs": [
    {
     "data": {
      "text/plain": [
       "25.589225589225588"
      ]
     },
     "execution_count": 41,
     "metadata": {},
     "output_type": "execute_result"
    }
   ],
   "source": [
    "df.PassengerId[(50 < df.Age) | (df.Age < 20)].count() /passenger_total * 100"
   ]
  },
  {
   "cell_type": "markdown",
   "metadata": {},
   "source": [
    "- 25.6% of the passengers were over 50 or under 20 years old"
   ]
  },
  {
   "cell_type": "markdown",
   "metadata": {},
   "source": [
    "\n",
    "\n",
    "**Knowing nothing else about the passengers aside from the survival rate of the population (see question above), if I choose 100 passengers at random from the passenger list, what’s the probability that exactly 42 passengers survive?**"
   ]
  },
  {
   "cell_type": "markdown",
   "metadata": {},
   "source": [
    "- Survived: 342 / 891"
   ]
  },
  {
   "cell_type": "code",
   "execution_count": 42,
   "metadata": {},
   "outputs": [
    {
     "data": {
      "text/plain": [
       "0.061481801021581461"
      ]
     },
     "execution_count": 42,
     "metadata": {},
     "output_type": "execute_result"
    }
   ],
   "source": [
    "stats.binom.pmf(k=42, n=100, p=0.384)"
   ]
  },
  {
   "cell_type": "markdown",
   "metadata": {},
   "source": [
    "- 6.1% chance exactly 42 passengers would survive"
   ]
  },
  {
   "cell_type": "markdown",
   "metadata": {},
   "source": [
    "**What’s the probability that at least 42 of those 100 passengers survive?**"
   ]
  },
  {
   "cell_type": "code",
   "execution_count": 43,
   "metadata": {},
   "outputs": [
    {
     "data": {
      "text/plain": [
       "0.26049293242654348"
      ]
     },
     "execution_count": 43,
     "metadata": {},
     "output_type": "execute_result"
    }
   ],
   "source": [
    "1 - stats.binom.cdf(k=41, n=100, p=0.384)"
   ]
  },
  {
   "cell_type": "markdown",
   "metadata": {},
   "source": [
    "**Write a function that takes N random samples of 100 passengers, and returns the fraction of those samples where at least 42 passengers survive.**\n",
    "\n",
    "Choose a random seed and find approximately how many random samples you need to take before your fraction matches the probability you calculated (within Δp≈0.05Δp≈0.05).\n",
    "\n",
    "It may help to visualize the survival fraction vs the number of random samples. Answers will vary based on the seed."
   ]
  },
  {
   "cell_type": "code",
   "execution_count": 44,
   "metadata": {
    "collapsed": true
   },
   "outputs": [],
   "source": [
    "def random_42(n):\n",
    "    life_death = stats.binom.rvs(n=n, p=0.384, size=100)\n",
    "    return life_death[life_death > 41].shape[0] / 100"
   ]
  },
  {
   "cell_type": "code",
   "execution_count": 45,
   "metadata": {},
   "outputs": [
    {
     "name": "stdout",
     "output_type": "stream",
     "text": [
      "96\n"
     ]
    }
   ],
   "source": [
    "p_42 = 0.26\n",
    "delta_p = 1\n",
    "n = 0\n",
    "while(delta_p > 0.05):\n",
    "    n += 1\n",
    "    prob = random_42(n)\n",
    "    delta_p = abs(prob - p_42)\n",
    "    \n",
    "print(n)"
   ]
  },
  {
   "cell_type": "markdown",
   "metadata": {},
   "source": [
    "**Is there a statistically significant difference between:**\n",
    "- The ages of male and female survivors?\n",
    "- The fares paid by passengers from Queenstown and the passengers from Cherbourg?\n",
    "\n",
    "**If so, at what level? If not, how do you know?**"
   ]
  },
  {
   "cell_type": "code",
   "execution_count": 46,
   "metadata": {},
   "outputs": [],
   "source": [
    "males = df.Age[(df.Sex == 'male') & (df.Survived == 1)]\n",
    "females = df.Age[(df.Sex == 'female') & (df.Survived == 1)]\n",
    "survive_sex = pd.concat([males, females], axis=1)\n",
    "survive_sex.columns = ['Male Survivors', 'Female Survivors']"
   ]
  },
  {
   "cell_type": "code",
   "execution_count": 47,
   "metadata": {},
   "outputs": [
    {
     "data": {
      "text/html": [
       "<div>\n",
       "<table border=\"1\" class=\"dataframe\">\n",
       "  <thead>\n",
       "    <tr style=\"text-align: right;\">\n",
       "      <th></th>\n",
       "      <th>Male Survivors</th>\n",
       "      <th>Female Survivors</th>\n",
       "    </tr>\n",
       "  </thead>\n",
       "  <tbody>\n",
       "    <tr>\n",
       "      <th>count</th>\n",
       "      <td>93.000000</td>\n",
       "      <td>197.000000</td>\n",
       "    </tr>\n",
       "    <tr>\n",
       "      <th>mean</th>\n",
       "      <td>27.276022</td>\n",
       "      <td>28.847716</td>\n",
       "    </tr>\n",
       "    <tr>\n",
       "      <th>std</th>\n",
       "      <td>16.504803</td>\n",
       "      <td>14.175073</td>\n",
       "    </tr>\n",
       "    <tr>\n",
       "      <th>min</th>\n",
       "      <td>0.420000</td>\n",
       "      <td>0.750000</td>\n",
       "    </tr>\n",
       "    <tr>\n",
       "      <th>25%</th>\n",
       "      <td>18.000000</td>\n",
       "      <td>19.000000</td>\n",
       "    </tr>\n",
       "    <tr>\n",
       "      <th>50%</th>\n",
       "      <td>28.000000</td>\n",
       "      <td>28.000000</td>\n",
       "    </tr>\n",
       "    <tr>\n",
       "      <th>75%</th>\n",
       "      <td>36.000000</td>\n",
       "      <td>38.000000</td>\n",
       "    </tr>\n",
       "    <tr>\n",
       "      <th>max</th>\n",
       "      <td>80.000000</td>\n",
       "      <td>63.000000</td>\n",
       "    </tr>\n",
       "  </tbody>\n",
       "</table>\n",
       "</div>"
      ],
      "text/plain": [
       "       Male Survivors  Female Survivors\n",
       "count       93.000000        197.000000\n",
       "mean        27.276022         28.847716\n",
       "std         16.504803         14.175073\n",
       "min          0.420000          0.750000\n",
       "25%         18.000000         19.000000\n",
       "50%         28.000000         28.000000\n",
       "75%         36.000000         38.000000\n",
       "max         80.000000         63.000000"
      ]
     },
     "execution_count": 47,
     "metadata": {},
     "output_type": "execute_result"
    }
   ],
   "source": [
    "survive_sex.describe()"
   ]
  },
  {
   "cell_type": "markdown",
   "metadata": {},
   "source": [
    "- Null Hypothesis: There is no difference between the probablility of survival based on sex."
   ]
  },
  {
   "cell_type": "code",
   "execution_count": 48,
   "metadata": {},
   "outputs": [
    {
     "data": {
      "text/plain": [
       "Ttest_1sampResult(statistic=-0.62383166680367896, pvalue=0.53428188616790262)"
      ]
     },
     "execution_count": 48,
     "metadata": {},
     "output_type": "execute_result"
    }
   ],
   "source": [
    "stats.ttest_1samp(a=males[males.notnull()], popmean=df.Age[df.Survived == 1].mean())"
   ]
  },
  {
   "cell_type": "code",
   "execution_count": 49,
   "metadata": {},
   "outputs": [
    {
     "data": {
      "text/plain": [
       "Ttest_1sampResult(statistic=0.49906926834101317, pvalue=0.61829027035020445)"
      ]
     },
     "execution_count": 49,
     "metadata": {},
     "output_type": "execute_result"
    }
   ],
   "source": [
    "stats.ttest_1samp(a=females[females.notnull()], popmean=df.Age[df.Survived == 1].mean())"
   ]
  },
  {
   "cell_type": "code",
   "execution_count": 50,
   "metadata": {},
   "outputs": [
    {
     "data": {
      "text/plain": [
       "Ttest_indResult(statistic=-0.79089662277024664, pvalue=0.43018823932007377)"
      ]
     },
     "execution_count": 50,
     "metadata": {},
     "output_type": "execute_result"
    }
   ],
   "source": [
    "p_value_sex = stats.ttest_ind(a=males[males.notnull()],\n",
    "                              b=females[females.notnull()],\n",
    "                              equal_var=False)\n",
    "p_value_sex"
   ]
  },
  {
   "cell_type": "markdown",
   "metadata": {},
   "source": [
    "- There is a 43% chance the survival data with respect to sex would have the given distributions given that the male and female data was identical. "
   ]
  },
  {
   "cell_type": "code",
   "execution_count": 51,
   "metadata": {},
   "outputs": [
    {
     "data": {
      "image/png": "[encoded data removed]",
      "text/plain": [
       "<matplotlib.figure.Figure at 0x11aa02390>"
      ]
     },
     "metadata": {},
     "output_type": "display_data"
    }
   ],
   "source": [
    "survive_sex.describe().plot(kind='box', title='Titanic Survivors', ylim=(0, 90));"
   ]
  },
  {
   "cell_type": "code",
   "execution_count": 52,
   "metadata": {},
   "outputs": [
    {
     "data": {
      "image/png": "[encoded data removed]",
      "text/plain": [
       "<matplotlib.figure.Figure at 0x1175736d8>"
      ]
     },
     "metadata": {},
     "output_type": "display_data"
    }
   ],
   "source": [
    "sns.violinplot(x='Sex', y='Age', data=df);"
   ]
  },
  {
   "cell_type": "markdown",
   "metadata": {},
   "source": [
    "**The fares paid by passengers from Queenstown and the passengers from Cherbourg?**"
   ]
  },
  {
   "cell_type": "code",
   "execution_count": 53,
   "metadata": {},
   "outputs": [],
   "source": [
    "cher = df.Fare[df.Embarked == 'C']\n",
    "queen = df.Fare[df.Embarked == 'Q']\n",
    "\n",
    "compare_fare = pd.concat([cher, queen], axis=1)\n",
    "compare_fare.columns = ['Cherbourg', 'Queenstown']"
   ]
  },
  {
   "cell_type": "code",
   "execution_count": 54,
   "metadata": {},
   "outputs": [
    {
     "data": {
      "text/html": [
       "<div>\n",
       "<table border=\"1\" class=\"dataframe\">\n",
       "  <thead>\n",
       "    <tr style=\"text-align: right;\">\n",
       "      <th></th>\n",
       "      <th>Cherbourg</th>\n",
       "      <th>Queenstown</th>\n",
       "    </tr>\n",
       "  </thead>\n",
       "  <tbody>\n",
       "    <tr>\n",
       "      <th>count</th>\n",
       "      <td>168.000000</td>\n",
       "      <td>77.000000</td>\n",
       "    </tr>\n",
       "    <tr>\n",
       "      <th>mean</th>\n",
       "      <td>59.954144</td>\n",
       "      <td>13.276030</td>\n",
       "    </tr>\n",
       "    <tr>\n",
       "      <th>std</th>\n",
       "      <td>83.912994</td>\n",
       "      <td>14.188047</td>\n",
       "    </tr>\n",
       "    <tr>\n",
       "      <th>min</th>\n",
       "      <td>4.012500</td>\n",
       "      <td>6.750000</td>\n",
       "    </tr>\n",
       "    <tr>\n",
       "      <th>25%</th>\n",
       "      <td>13.697950</td>\n",
       "      <td>7.750000</td>\n",
       "    </tr>\n",
       "    <tr>\n",
       "      <th>50%</th>\n",
       "      <td>29.700000</td>\n",
       "      <td>7.750000</td>\n",
       "    </tr>\n",
       "    <tr>\n",
       "      <th>75%</th>\n",
       "      <td>78.500025</td>\n",
       "      <td>15.500000</td>\n",
       "    </tr>\n",
       "    <tr>\n",
       "      <th>max</th>\n",
       "      <td>512.329200</td>\n",
       "      <td>90.000000</td>\n",
       "    </tr>\n",
       "  </tbody>\n",
       "</table>\n",
       "</div>"
      ],
      "text/plain": [
       "        Cherbourg  Queenstown\n",
       "count  168.000000   77.000000\n",
       "mean    59.954144   13.276030\n",
       "std     83.912994   14.188047\n",
       "min      4.012500    6.750000\n",
       "25%     13.697950    7.750000\n",
       "50%     29.700000    7.750000\n",
       "75%     78.500025   15.500000\n",
       "max    512.329200   90.000000"
      ]
     },
     "execution_count": 54,
     "metadata": {},
     "output_type": "execute_result"
    }
   ],
   "source": [
    "compare_fare.describe()"
   ]
  },
  {
   "cell_type": "markdown",
   "metadata": {},
   "source": [
    "- Null Hypothesis: There is no difference between the Fare price based on Embark town."
   ]
  },
  {
   "cell_type": "code",
   "execution_count": 55,
   "metadata": {},
   "outputs": [
    {
     "data": {
      "text/plain": [
       "Ttest_1sampResult(statistic=4.2863478225243004, pvalue=3.0619525228593012e-05)"
      ]
     },
     "execution_count": 55,
     "metadata": {},
     "output_type": "execute_result"
    }
   ],
   "source": [
    "stats.ttest_1samp(a=cher, popmean=df.Fare.mean())"
   ]
  },
  {
   "cell_type": "code",
   "execution_count": 56,
   "metadata": {},
   "outputs": [
    {
     "data": {
      "text/plain": [
       "Ttest_1sampResult(statistic=-11.706621004621377, pvalue=1.1012346605163913e-18)"
      ]
     },
     "execution_count": 56,
     "metadata": {},
     "output_type": "execute_result"
    }
   ],
   "source": [
    "stats.ttest_1samp(a=queen, popmean=df.Fare.mean())"
   ]
  },
  {
   "cell_type": "code",
   "execution_count": 57,
   "metadata": {},
   "outputs": [
    {
     "data": {
      "text/plain": [
       "Ttest_indResult(statistic=6.9951971047186809, pvalue=4.5792033919567422e-11)"
      ]
     },
     "execution_count": 57,
     "metadata": {},
     "output_type": "execute_result"
    }
   ],
   "source": [
    "p_value_embark = stats.ttest_ind(a=cher, b=queen, equal_var=False)\n",
    "p_value_embark"
   ]
  },
  {
   "cell_type": "markdown",
   "metadata": {},
   "source": [
    "- There is a 0% percent chance the fares paid by passengers in Cherboug are similar to the fares paid by passengers in Queenstown."
   ]
  },
  {
   "cell_type": "code",
   "execution_count": 58,
   "metadata": {},
   "outputs": [
    {
     "data": {
      "image/png": "[encoded data removed]",
      "text/plain": [
       "<matplotlib.figure.Figure at 0x11aa07198>"
      ]
     },
     "metadata": {},
     "output_type": "display_data"
    }
   ],
   "source": [
    "compare_fare.describe().plot(kind='box', title='Titanic Fares', ylim=(0, 200));"
   ]
  },
  {
   "cell_type": "code",
   "execution_count": 59,
   "metadata": {},
   "outputs": [
    {
     "data": {
      "image/png": "[encoded data removed]",
      "text/plain": [
       "<matplotlib.figure.Figure at 0x11a8a6080>"
      ]
     },
     "metadata": {},
     "output_type": "display_data"
    }
   ],
   "source": [
    "sns.violinplot(x='Embarked', y='Fare', data=df);"
   ]
  },
  {
   "cell_type": "markdown",
   "metadata": {},
   "source": [
    "**Accompany your p-values with histograms showing the distributions of both compared populations.**"
   ]
  },
  {
   "cell_type": "code",
   "execution_count": 60,
   "metadata": {},
   "outputs": [
    {
     "data": {
      "image/png": "[encoded data removed]",
      "text/plain": [
       "<matplotlib.figure.Figure at 0x11b0da978>"
      ]
     },
     "metadata": {},
     "output_type": "display_data"
    }
   ],
   "source": [
    "ax = survive_sex.plot(kind='hist', alpha=0.5, bins=40, title='Titanic Survivors');\n",
    "ax.set_xlabel('Age (years)');"
   ]
  },
  {
   "cell_type": "code",
   "execution_count": 61,
   "metadata": {},
   "outputs": [
    {
     "name": "stdout",
     "output_type": "stream",
     "text": [
      "Male Female Age p-value: 0.43019\n"
     ]
    }
   ],
   "source": [
    "print(f'Male Female Age p-value: {p_value_sex[1]:.5f}')"
   ]
  },
  {
   "cell_type": "code",
   "execution_count": 62,
   "metadata": {},
   "outputs": [
    {
     "data": {
      "image/png": "[encoded data removed]",
      "text/plain": [
       "<matplotlib.figure.Figure at 0x11ab8b6a0>"
      ]
     },
     "metadata": {},
     "output_type": "display_data"
    }
   ],
   "source": [
    "ax = compare_fare.plot(kind='hist', alpha=0.5, bins=40, title='Titanic Fares')\n",
    "ax.set_xlabel('Ticket Fare');"
   ]
  },
  {
   "cell_type": "code",
   "execution_count": 63,
   "metadata": {},
   "outputs": [
    {
     "name": "stdout",
     "output_type": "stream",
     "text": [
      "Embark Location Fares p-value: 0.00000\n"
     ]
    }
   ],
   "source": [
    "print(f'Embark Location Fares p-value: {p_value_embark[1]:.5f}')"
   ]
  },
  {
   "cell_type": "markdown",
   "metadata": {},
   "source": [
    "**Did survivors pay more for their tickets than those that did not? If so, to what significance level?**"
   ]
  },
  {
   "cell_type": "code",
   "execution_count": 64,
   "metadata": {},
   "outputs": [
    {
     "data": {
      "text/plain": [
       "count    342.000000\n",
       "mean      48.395408\n",
       "std       66.596998\n",
       "min        0.000000\n",
       "25%       12.475000\n",
       "50%       26.000000\n",
       "75%       57.000000\n",
       "max      512.329200\n",
       "Name: Fare, dtype: float64"
      ]
     },
     "execution_count": 64,
     "metadata": {},
     "output_type": "execute_result"
    },
    {
     "data": {
      "text/plain": [
       "count    549.000000\n",
       "mean      22.117887\n",
       "std       31.388207\n",
       "min        0.000000\n",
       "25%        7.854200\n",
       "50%       10.500000\n",
       "75%       26.000000\n",
       "max      263.000000\n",
       "Name: Fare, dtype: float64"
      ]
     },
     "execution_count": 64,
     "metadata": {},
     "output_type": "execute_result"
    },
    {
     "data": {
      "text/plain": [
       "23.679417122040071"
      ]
     },
     "execution_count": 64,
     "metadata": {},
     "output_type": "execute_result"
    }
   ],
   "source": [
    "live_fare = df.Fare[df.Survived == 1].describe()\n",
    "death_fare = df.Fare[df.Survived == 0].describe()\n",
    "live_fare\n",
    "death_fare\n",
    "df.Fare[(df.Survived == 0) & (df.Fare > 26)].count() / death_fare['count'] * 100"
   ]
  },
  {
   "cell_type": "markdown",
   "metadata": {},
   "source": [
    "- The mean and median of the survivor's fares were more than double those who did not survive.\n",
    "- 23.7% of the passengers who died paid a fare equal to or greater than the average fare of those who survived."
   ]
  },
  {
   "cell_type": "markdown",
   "metadata": {},
   "source": [
    "**Did a given first-class passenger have less family members on board than a given third-class passenger? If so, to what significance level?**"
   ]
  },
  {
   "cell_type": "code",
   "execution_count": 65,
   "metadata": {},
   "outputs": [
    {
     "data": {
      "text/plain": [
       "Pclass  Family\n",
       "1       0         109\n",
       "        1         107\n",
       "2       0         104\n",
       "        1          80\n",
       "3       0         324\n",
       "        1         167\n",
       "Name: PassengerId, dtype: int64"
      ]
     },
     "execution_count": 65,
     "metadata": {},
     "output_type": "execute_result"
    }
   ],
   "source": [
    "df['Family'] = [1 if x or y else 0 for x, y in zip(df.SibSp, df.Parch)]\n",
    "df.PassengerId.groupby((df.Pclass, df.Family)).count()"
   ]
  },
  {
   "cell_type": "code",
   "execution_count": 66,
   "metadata": {},
   "outputs": [
    {
     "data": {
      "text/plain": [
       "Pclass\n",
       "1    216\n",
       "2    184\n",
       "3    491\n",
       "Name: SibSp, dtype: int64"
      ]
     },
     "execution_count": 66,
     "metadata": {},
     "output_type": "execute_result"
    }
   ],
   "source": [
    "df.SibSp.groupby(df.Pclass).count()"
   ]
  },
  {
   "cell_type": "code",
   "execution_count": 67,
   "metadata": {},
   "outputs": [
    {
     "data": {
      "text/plain": [
       "0.1552481707777023"
      ]
     },
     "execution_count": 67,
     "metadata": {},
     "output_type": "execute_result"
    }
   ],
   "source": [
    "107 / 216 - 167 / 491"
   ]
  },
  {
   "cell_type": "markdown",
   "metadata": {},
   "source": [
    "- 15.5% more of 1st class passengers were traveling as families compared to the 3rd class passengers."
   ]
  }
 ],
 "metadata": {
  "anaconda-cloud": {},
  "kernelspec": {
   "display_name": "Python 3",
   "language": "python",
   "name": "python3"
  },
  "language_info": {
   "codemirror_mode": {
    "name": "ipython",
    "version": 3
   },
   "file_extension": ".py",
   "mimetype": "text/x-python",
   "name": "python",
   "nbconvert_exporter": "python",
   "pygments_lexer": "ipython3",
   "version": "3.6.0"
  }
 },
 "nbformat": 4,
 "nbformat_minor": 1
}
