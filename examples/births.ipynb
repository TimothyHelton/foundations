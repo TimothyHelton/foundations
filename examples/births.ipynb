{
 "cells": [
  {
   "cell_type": "markdown",
   "metadata": {
    "collapsed": true
   },
   "source": [
    "## US Birth Data Set\n",
    "\n",
    "[Original article by FiveThirtyEight about Friday the 13th](http://fivethirtyeight.com/features/some-people-are-too-superstitious-to-have-a-baby-on-friday-the-13th/)\n",
    "\n",
    "The data set contains U.S. births data for the years 1994 to 2003, as provided by the Centers for Disease Control and Prevention's National Center for Health Statistics"
   ]
  },
  {
   "cell_type": "markdown",
   "metadata": {},
   "source": [
    "---\n",
    "\n",
    "---\n",
    "## Imports"
   ]
  },
  {
   "cell_type": "code",
   "execution_count": 19,
   "metadata": {
    "collapsed": false
   },
   "outputs": [],
   "source": [
    "import os\n",
    "import os.path as osp\n",
    "from typing import Dict, List"
   ]
  },
  {
   "cell_type": "markdown",
   "metadata": {},
   "source": [
    "### Assignment\n",
    "\n",
    "- Open the CSV and split based on new lines\n",
    "- Preview the first 10 entries"
   ]
  },
  {
   "cell_type": "code",
   "execution_count": 9,
   "metadata": {
    "collapsed": false
   },
   "outputs": [
    {
     "data": {
      "text/plain": [
       "['year,month,date_of_month,day_of_week,births',\n",
       " '1994,1,1,6,8096',\n",
       " '1994,1,2,7,7772',\n",
       " '1994,1,3,1,10142',\n",
       " '1994,1,4,2,11248',\n",
       " '1994,1,5,3,11053',\n",
       " '1994,1,6,4,11406',\n",
       " '1994,1,7,5,11251',\n",
       " '1994,1,8,6,8653',\n",
       " '1994,1,9,7,7910']"
      ]
     },
     "execution_count": 9,
     "metadata": {},
     "output_type": "execute_result"
    }
   ],
   "source": [
    "os.chdir(osp.join('..', 'data'))\n",
    "with open('us_births.csv', 'r') as f:\n",
    "    data = f.readlines()\n",
    "data = [x.rstrip('\\n') for x in data]\n",
    "data[:10]"
   ]
  },
  {
   "cell_type": "markdown",
   "metadata": {},
   "source": [
    "### Assignment\n",
    "\n",
    "- Create a function that takes in a CSV and converts the data into a list of lists\n",
    "    - Each row will be a list\n",
    "    - Make sure to convert the values to int\n",
    "    - Return the final list of lists\n",
    "- Preview the first 10 entries of the output"
   ]
  },
  {
   "cell_type": "code",
   "execution_count": 17,
   "metadata": {
    "collapsed": false
   },
   "outputs": [
    {
     "name": "stdout",
     "output_type": "stream",
     "text": [
      "Fields: ((0, 'year'), (1, 'month'), (2, 'date_of_month'), (3, 'day_of_week'), (4, 'births'))\n"
     ]
    },
    {
     "data": {
      "text/plain": [
       "[[1994, 1, 1, 6, 8096],\n",
       " [1994, 1, 2, 7, 7772],\n",
       " [1994, 1, 3, 1, 10142],\n",
       " [1994, 1, 4, 2, 11248],\n",
       " [1994, 1, 5, 3, 11053],\n",
       " [1994, 1, 6, 4, 11406],\n",
       " [1994, 1, 7, 5, 11251],\n",
       " [1994, 1, 8, 6, 8653],\n",
       " [1994, 1, 9, 7, 7910],\n",
       " [1994, 1, 10, 1, 10498]]"
      ]
     },
     "execution_count": 17,
     "metadata": {},
     "output_type": "execute_result"
    }
   ],
   "source": [
    "def convert_csv(csv_file: str) -> List[List]:\n",
    "    \"\"\"Convert a comma separated value (.csv) file into a list of lists.\n",
    "    \n",
    "    :param str csv_file: path to .csv file\n",
    "    :returns: (header, csv data)\n",
    "    :rtype: list of lists\n",
    "    \"\"\"\n",
    "    with open(csv_file, 'r') as f:\n",
    "        data = f.readlines()\n",
    "    header = data[0].rstrip('\\n').split(',')\n",
    "    return header, [list(map(int, x.split(','))) for x in data[1:]]\n",
    "\n",
    "header, data = convert_csv('us_births.csv')\n",
    "print('Fields: {}'.format(tuple(zip(range(5), header))))\n",
    "data[:10]"
   ]
  },
  {
   "cell_type": "markdown",
   "metadata": {},
   "source": [
    "### Assignment\n",
    "\n",
    "- Create a function that calculates the number of births each month\n",
    "    - The function input should be the previous list of lists you created\n",
    "    - Use a dictionary and increment the values associated with each month key\n",
    "    - Return the final dictionary\n",
    "- Preview the output"
   ]
  },
  {
   "cell_type": "code",
   "execution_count": 37,
   "metadata": {
    "collapsed": false,
    "scrolled": true
   },
   "outputs": [
    {
     "name": "stdout",
     "output_type": "stream",
     "text": [
      "Births in January: 3232517\n"
     ]
    },
    {
     "data": {
      "text/plain": [
       "{1: 3232517,\n",
       " 2: 3018140,\n",
       " 3: 3322069,\n",
       " 4: 3185314,\n",
       " 5: 3350907,\n",
       " 6: 3296530,\n",
       " 7: 3498783,\n",
       " 8: 3525858,\n",
       " 9: 3439698,\n",
       " 10: 3378814,\n",
       " 11: 3171647,\n",
       " 12: 3301860}"
      ]
     },
     "execution_count": 37,
     "metadata": {},
     "output_type": "execute_result"
    }
   ],
   "source": [
    "def qty_birth_month(birth_data: List[List]) -> Dict:\n",
    "    \"\"\"Determine the number of births per month based on provided data.\n",
    "    \n",
    "    :param birth_data: data set of births\n",
    "    :type: list of lists\n",
    "    :returns: dictionary summing the births for a given month\n",
    "    :rtype: dict\n",
    "    \"\"\"\n",
    "    births = {}\n",
    "    for entry in birth_data:\n",
    "        key = entry[1]\n",
    "        births[key] = births.get(key, 0) + entry[4]\n",
    "    return births\n",
    "\n",
    "jan = sum([x[4] for x in data if x[1] == 1])\n",
    "print('Births in January: {}'.format(jan))\n",
    "\n",
    "data_months = qty_birth_month(data)\n",
    "data_months"
   ]
  },
  {
   "cell_type": "markdown",
   "metadata": {},
   "source": [
    "### Assignment\n",
    "\n",
    "- Create a function that calculates the number of births each day of the week"
   ]
  },
  {
   "cell_type": "code",
   "execution_count": 35,
   "metadata": {
    "collapsed": false
   },
   "outputs": [
    {
     "name": "stdout",
     "output_type": "stream",
     "text": [
      "Births on Day 1: 5789166\n"
     ]
    },
    {
     "data": {
      "text/plain": [
       "{1: 5789166,\n",
       " 2: 6446196,\n",
       " 3: 6322855,\n",
       " 4: 6288429,\n",
       " 5: 6233657,\n",
       " 6: 4562111,\n",
       " 7: 4079723}"
      ]
     },
     "execution_count": 35,
     "metadata": {},
     "output_type": "execute_result"
    }
   ],
   "source": [
    "def qty_birth_days(birth_data: List[List]) -> Dict:\n",
    "    \"\"\"Determine the number of births per day of the week based on provided data.\n",
    "    \n",
    "    :param birth_data: data set of births\n",
    "    :type: list of lists\n",
    "    :returns: dictionary summing the births for a given month\n",
    "    :rtype: dict\n",
    "    \"\"\"\n",
    "    births = {}\n",
    "    for entry in birth_data:\n",
    "        key = entry[3]\n",
    "        births[key] = births.get(key, 0) + entry[4]\n",
    "    return births\n",
    "\n",
    "day_1 = sum([x[4] for x in data if x[3] == 1])\n",
    "print('Births on Day 1: {}'.format(day_1))\n",
    "\n",
    "data_days = qty_birth_days(data)\n",
    "data_days"
   ]
  },
  {
   "cell_type": "markdown",
   "metadata": {},
   "source": [
    "### Assignment\n",
    "\n",
    "- Create a general function that takes the data list of lists and a column index, it should return a dictionary mapping of the unique keys and summed values"
   ]
  },
  {
   "cell_type": "code",
   "execution_count": 39,
   "metadata": {
    "collapsed": false
   },
   "outputs": [
    {
     "data": {
      "text/plain": [
       "{1: 5789166,\n",
       " 2: 6446196,\n",
       " 3: 6322855,\n",
       " 4: 6288429,\n",
       " 5: 6233657,\n",
       " 6: 4562111,\n",
       " 7: 4079723}"
      ]
     },
     "execution_count": 39,
     "metadata": {},
     "output_type": "execute_result"
    }
   ],
   "source": [
    "def general_sum(input_data: List[List], col: int) -> Dict:\n",
    "    \"\"\"Sum the data on the requested column.\n",
    "    \n",
    "    :param input_data: data set\n",
    "    :type: list of lists\n",
    "    :returns: dictionary summing the requested column values\n",
    "    :rtype: dict\n",
    "    \"\"\"\n",
    "    sum_data = {}\n",
    "    for entry in input_data:\n",
    "        key = entry[col]\n",
    "        sum_data[key] = sum_data.get(key, 0) + entry[4]\n",
    "    return sum_data\n",
    "\n",
    "general_sum(data, 3)"
   ]
  }
 ],
 "metadata": {
  "anaconda-cloud": {},
  "kernelspec": {
   "display_name": "Python [conda root]",
   "language": "python",
   "name": "conda-root-py"
  },
  "language_info": {
   "codemirror_mode": {
    "name": "ipython",
    "version": 3
   },
   "file_extension": ".py",
   "mimetype": "text/x-python",
   "name": "python",
   "nbconvert_exporter": "python",
   "pygments_lexer": "ipython3",
   "version": "3.5.2"
  }
 },
 "nbformat": 4,
 "nbformat_minor": 1
}
