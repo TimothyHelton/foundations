{
 "cells": [
  {
   "cell_type": "markdown",
   "metadata": {},
   "source": [
    "<div>\n",
    "    <img src=\"K2_logo.png\" align=\"left\" alt=\"K2 Data Science\" style=\"width: 100px;\"/>\n",
    "<div>"
   ]
  },
  {
   "cell_type": "markdown",
   "metadata": {},
   "source": [
    "# K2 Data Science Foundations\n",
    "## Sorting Algorithms\n",
    "Timothy Helton<br>\n",
    "December 14, 2016"
   ]
  },
  {
   "cell_type": "markdown",
   "metadata": {},
   "source": [
    "---\n",
    "\n",
    "---\n",
    "\n",
    "### Imports"
   ]
  },
  {
   "cell_type": "code",
   "execution_count": 1,
   "metadata": {
    "collapsed": false
   },
   "outputs": [],
   "source": [
    "import random\n",
    "\n",
    "from foundations import sort"
   ]
  },
  {
   "cell_type": "code",
   "execution_count": 5,
   "metadata": {
    "collapsed": false
   },
   "outputs": [],
   "source": [
    "sample = random.sample(range(100), 10)"
   ]
  },
  {
   "cell_type": "markdown",
   "metadata": {},
   "source": [
    "---\n",
    "\n",
    "---\n",
    "\n",
    "### Selection Sort Algorithms\n",
    "[Reference](https://python-textbok.readthedocs.io/en/latest/Sorting_and_Searching_Algorithms.html)\n",
    "\n",
    "Repeatedly select the smallest remaining element of a list and move it to the end of a sorted list.\n",
    "\n",
    "1. Divide the list to be sorted into a sorted portion at the front (initially empty) and an unsorted portion at the end (initially the whole list).\n",
    "1. Find the smallest element in the unsorted list:\n",
    "\n",
    "    1. Select the first element of the unsorted list as the initial candidate.\n",
    "    1. Compare the candidate to each element of the unsorted list in turn, replacing the candidate with the current element if the current element is smaller.\n",
    "    1. Once the end of the unsorted list is reached, the candidate is the smallest element.\n",
    "1. Swap the smallest element found in the previous step with the first element in the unsorted list, thus extending the sorted list by one element.\n",
    "1. Repeat the steps 2 and 3 above until only one element remains in the unsorted list.\n"
   ]
  },
  {
   "cell_type": "code",
   "execution_count": 6,
   "metadata": {
    "collapsed": false
   },
   "outputs": [
    {
     "data": {
      "text/plain": [
       "[30, 38, 59, 64, 65, 74, 76, 81, 83, 91]"
      ]
     },
     "execution_count": 6,
     "metadata": {},
     "output_type": "execute_result"
    }
   ],
   "source": [
    "sort_inst = sort.Sorting(items=sample)\n",
    "sort_inst.selection_sort()\n",
    "sort_inst.items"
   ]
  }
 ],
 "metadata": {
  "anaconda-cloud": {},
  "kernelspec": {
   "display_name": "Python [conda root]",
   "language": "python",
   "name": "conda-root-py"
  },
  "language_info": {
   "codemirror_mode": {
    "name": "ipython",
    "version": 3
   },
   "file_extension": ".py",
   "mimetype": "text/x-python",
   "name": "python",
   "nbconvert_exporter": "python",
   "pygments_lexer": "ipython3",
   "version": "3.5.2"
  }
 },
 "nbformat": 4,
 "nbformat_minor": 0
}
